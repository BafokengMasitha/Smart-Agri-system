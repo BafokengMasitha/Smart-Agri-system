{
 "cells": [
  {
   "cell_type": "code",
   "execution_count": null,
   "id": "098801a0-954c-4305-82d7-cf04d42e25f8",
   "metadata": {},
   "outputs": [],
   "source": [
    "pip install pyserial"
   ]
  },
  {
   "cell_type": "code",
   "execution_count": 3,
   "id": "9c5a05df-b75c-4f22-a76d-86bf242e6e88",
   "metadata": {},
   "outputs": [],
   "source": [
    "import serial\n",
    "import time\n",
    "import numpy as np\n",
    "from sklearn.ensemble import RandomForestClassifier\n",
    "import joblib"
   ]
  },
  {
   "cell_type": "code",
   "execution_count": null,
   "id": "6a87622a-ac7e-496f-8158-2cb303bbba1b",
   "metadata": {},
   "outputs": [],
   "source": [
    "#Load the trained model\n",
    "model = joblib.load('random_forest_model.pkl')\n",
    "\n",
    "def parse_serial_data(data):\n",
    "    #Split the data and convert to float values\n",
    "    values =list(map(float, data.strip().split(',')))\n",
    "    return np.array(values).reshape(1, -1)\n",
    "\n",
    "#Open the serial port\n",
    "ser= serial.Serial('COM4', 9600, timeout=1)\n",
    "print(\"Serial port opened successfully.\")\n",
    "\n",
    "try:\n",
    "    while True:\n",
    "        if ser.in_waiting > 0:\n",
    "            #Read the data from the serial port\n",
    "            data = ser.readline().decode('utf-8').rstrip()\n",
    "            if data:\n",
    "                print(f\"Received data: {data}\")\n",
    "            # Parse the sensor data\n",
    "            sensor_data = parse_serial_data(data)\n",
    "            #Make a prediction using the ML model\n",
    "            prediction = model.predict(sensor_data)\n",
    "            #Send the prediction back to the Arduino\n",
    "            ser.write(f\"{int(prediction[0])}\\n\".encode('utf-8'))\n",
    "            print(f\"Prediction: {prediction}\")\n",
    "            #Small delay to allow Arduino to process the data\n",
    "            time.sleep(1)\n",
    "\n",
    "except KeyboardInterrupt:\n",
    "    print(\"Closing the serial port...\")\n",
    "finally:\n",
    "    ser.close()\n",
    "    print(\"Serial port closed.\")\n",
    "    \n",
    "\n",
    "        "
   ]
  },
  {
   "cell_type": "code",
   "execution_count": null,
   "id": "f75960cd-66ab-447d-8358-52b4e8c1b266",
   "metadata": {},
   "outputs": [],
   "source": []
  },
  {
   "cell_type": "code",
   "execution_count": null,
   "id": "13b6f62c-4e0d-40f9-908b-b9d12dc01a13",
   "metadata": {},
   "outputs": [],
   "source": []
  }
 ],
 "metadata": {
  "kernelspec": {
   "display_name": "Python 3",
   "language": "python",
   "name": "python3"
  },
  "language_info": {
   "codemirror_mode": {
    "name": "ipython",
    "version": 3
   },
   "file_extension": ".py",
   "mimetype": "text/x-python",
   "name": "python",
   "nbconvert_exporter": "python",
   "pygments_lexer": "ipython3",
   "version": "3.10.12"
  }
 },
 "nbformat": 4,
 "nbformat_minor": 5
}
