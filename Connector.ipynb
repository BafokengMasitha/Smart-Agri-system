{
 "cells": [
  {
   "cell_type": "code",
   "execution_count": 1,
   "id": "098801a0-954c-4305-82d7-cf04d42e25f8",
   "metadata": {},
   "outputs": [
    {
     "name": "stdout",
     "output_type": "stream",
     "text": [
      "Defaulting to user installation because normal site-packages is not writeable\n",
      "Collecting pyserial\n",
      "  Downloading pyserial-3.5-py2.py3-none-any.whl (90 kB)\n",
      "\u001b[2K     \u001b[90m━━━━━━━━━━━━━━━━━━━━━━━━━━━━━━━━━━━━━━━\u001b[0m \u001b[32m90.6/90.6 KB\u001b[0m \u001b[31m407.3 kB/s\u001b[0m eta \u001b[36m0:00:00\u001b[0m \u001b[36m0:00:01\u001b[0mm\n",
      "\u001b[?25hInstalling collected packages: pyserial\n",
      "Successfully installed pyserial-3.5\n",
      "Note: you may need to restart the kernel to use updated packages.\n"
     ]
    }
   ],
   "source": [
    "pip install pyserial"
   ]
  },
  {
   "cell_type": "code",
   "execution_count": 3,
   "id": "9c5a05df-b75c-4f22-a76d-86bf242e6e88",
   "metadata": {},
   "outputs": [],
   "source": [
    "import serial\n",
    "import time\n",
    "import numpy as np\n",
    "from sklearn.ensemble import RandomForestClassifier\n",
    "import joblib"
   ]
  },
  {
   "cell_type": "code",
   "execution_count": 4,
   "id": "6a87622a-ac7e-496f-8158-2cb303bbba1b",
   "metadata": {},
   "outputs": [
    {
     "name": "stdout",
     "output_type": "stream",
     "text": [
      "Serial port opened successfully.\n",
      "Received data: 8,21,3243,0.20,9.40\n",
      "Prediction: [0]\n"
     ]
    },
    {
     "name": "stderr",
     "output_type": "stream",
     "text": [
      "C:\\Users\\Bafokeng Masitha\\anaconda3\\Lib\\site-packages\\sklearn\\base.py:439: UserWarning: X does not have valid feature names, but RandomForestClassifier was fitted with feature names\n",
      "  warnings.warn(\n"
     ]
    },
    {
     "name": "stdout",
     "output_type": "stream",
     "text": [
      "Received data: 8,21,3243,0.20,9.40\n",
      "Prediction: [0]\n"
     ]
    },
    {
     "name": "stderr",
     "output_type": "stream",
     "text": [
      "C:\\Users\\Bafokeng Masitha\\anaconda3\\Lib\\site-packages\\sklearn\\base.py:439: UserWarning: X does not have valid feature names, but RandomForestClassifier was fitted with feature names\n",
      "  warnings.warn(\n"
     ]
    },
    {
     "name": "stdout",
     "output_type": "stream",
     "text": [
      "Received data: 8,21,3243,0.20,9.40\n",
      "Prediction: [0]\n"
     ]
    },
    {
     "name": "stderr",
     "output_type": "stream",
     "text": [
      "C:\\Users\\Bafokeng Masitha\\anaconda3\\Lib\\site-packages\\sklearn\\base.py:439: UserWarning: X does not have valid feature names, but RandomForestClassifier was fitted with feature names\n",
      "  warnings.warn(\n"
     ]
    },
    {
     "name": "stdout",
     "output_type": "stream",
     "text": [
      "Received data: Prediction received: 0\n",
      "Serial port closed.\n"
     ]
    },
    {
     "ename": "ValueError",
     "evalue": "could not convert string to float: 'Prediction received: 0'",
     "output_type": "error",
     "traceback": [
      "\u001b[1;31m---------------------------------------------------------------------------\u001b[0m",
      "\u001b[1;31mValueError\u001b[0m                                Traceback (most recent call last)",
      "Cell \u001b[1;32mIn[4], line 21\u001b[0m\n\u001b[0;32m     19\u001b[0m     \u001b[38;5;28mprint\u001b[39m(\u001b[38;5;124mf\u001b[39m\u001b[38;5;124m\"\u001b[39m\u001b[38;5;124mReceived data: \u001b[39m\u001b[38;5;132;01m{\u001b[39;00mdata\u001b[38;5;132;01m}\u001b[39;00m\u001b[38;5;124m\"\u001b[39m)\n\u001b[0;32m     20\u001b[0m \u001b[38;5;66;03m# Parse the sensor data\u001b[39;00m\n\u001b[1;32m---> 21\u001b[0m sensor_data \u001b[38;5;241m=\u001b[39m parse_serial_data(data)\n\u001b[0;32m     22\u001b[0m \u001b[38;5;66;03m#Make a prediction using the ML model\u001b[39;00m\n\u001b[0;32m     23\u001b[0m prediction \u001b[38;5;241m=\u001b[39m model\u001b[38;5;241m.\u001b[39mpredict(sensor_data)\n",
      "Cell \u001b[1;32mIn[4], line 6\u001b[0m, in \u001b[0;36mparse_serial_data\u001b[1;34m(data)\u001b[0m\n\u001b[0;32m      4\u001b[0m \u001b[38;5;28;01mdef\u001b[39;00m \u001b[38;5;21mparse_serial_data\u001b[39m(data):\n\u001b[0;32m      5\u001b[0m     \u001b[38;5;66;03m#Split the data and convert to float values\u001b[39;00m\n\u001b[1;32m----> 6\u001b[0m     values \u001b[38;5;241m=\u001b[39m\u001b[38;5;28mlist\u001b[39m(\u001b[38;5;28mmap\u001b[39m(\u001b[38;5;28mfloat\u001b[39m, data\u001b[38;5;241m.\u001b[39mstrip()\u001b[38;5;241m.\u001b[39msplit(\u001b[38;5;124m'\u001b[39m\u001b[38;5;124m,\u001b[39m\u001b[38;5;124m'\u001b[39m)))\n\u001b[0;32m      7\u001b[0m     \u001b[38;5;28;01mreturn\u001b[39;00m np\u001b[38;5;241m.\u001b[39marray(values)\u001b[38;5;241m.\u001b[39mreshape(\u001b[38;5;241m1\u001b[39m, \u001b[38;5;241m-\u001b[39m\u001b[38;5;241m1\u001b[39m)\n",
      "\u001b[1;31mValueError\u001b[0m: could not convert string to float: 'Prediction received: 0'"
     ]
    }
   ],
   "source": [
    "#Load the trained model\n",
    "model = joblib.load('C:/Users/Bafokeng Masitha/Desktop/Projects/Project1/Model/random_forest_model.pkl')\n",
    "\n",
    "def parse_serial_data(data):\n",
    "    #Split the data and convert to float values\n",
    "    values =list(map(float, data.strip().split(',')))\n",
    "    return np.array(values).reshape(1, -1)\n",
    "\n",
    "#Open the serial port\n",
    "ser= serial.Serial('COM4', 9600, timeout=1)\n",
    "print(\"Serial port opened successfully.\")\n",
    "\n",
    "try:\n",
    "    while True:\n",
    "        if ser.in_waiting > 0:\n",
    "            #Read the data from the serial port\n",
    "            data = ser.readline().decode('utf-8').rstrip()\n",
    "            if data:\n",
    "                print(f\"Received data: {data}\")\n",
    "            # Parse the sensor data\n",
    "            sensor_data = parse_serial_data(data)\n",
    "            #Make a prediction using the ML model\n",
    "            prediction = model.predict(sensor_data)\n",
    "            #Send the prediction back to the Arduino\n",
    "            ser.write(f\"{int(prediction[0])}\\n\".encode('utf-8'))\n",
    "            print(f\"Prediction: {prediction}\")\n",
    "            #Small delay to allow Arduino to process the data\n",
    "            time.sleep(1)\n",
    "\n",
    "except KeyboardInterrupt:\n",
    "    print(\"Closing the serial port...\")\n",
    "finally:\n",
    "    ser.close()\n",
    "    print(\"Serial port closed.\")\n",
    "    \n",
    "\n",
    "        "
   ]
  },
  {
   "cell_type": "code",
   "execution_count": null,
   "id": "f75960cd-66ab-447d-8358-52b4e8c1b266",
   "metadata": {},
   "outputs": [],
   "source": []
  },
  {
   "cell_type": "code",
   "execution_count": null,
   "id": "13b6f62c-4e0d-40f9-908b-b9d12dc01a13",
   "metadata": {},
   "outputs": [],
   "source": []
  }
 ],
 "metadata": {
  "kernelspec": {
   "display_name": "Python 3",
   "language": "python",
   "name": "python3"
  },
  "language_info": {
   "codemirror_mode": {
    "name": "ipython",
    "version": 3
   },
   "file_extension": ".py",
   "mimetype": "text/x-python",
   "name": "python",
   "nbconvert_exporter": "python",
   "pygments_lexer": "ipython3",
   "version": "3.10.12"
  }
 },
 "nbformat": 4,
 "nbformat_minor": 5
}
