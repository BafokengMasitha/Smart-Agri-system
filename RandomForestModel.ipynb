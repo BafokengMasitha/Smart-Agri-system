{
 "cells": [
  {
   "cell_type": "code",
   "execution_count": null,
   "id": "f3cde79d-22ec-4d61-9099-c709efa62771",
   "metadata": {},
   "outputs": [],
   "source": [
    "import pandas as pd\n",
    "from sklearn.model_selection import train_test_split\n",
    "from sklearn.ensemble import RandomForestClassifier\n",
    "import joblib\n",
    "from sklearn.preprocessing import LabelEncoder\n",
    "from sklearn.metrics import accuracy_score\n",
    "import json\n",
    "import serial\n",
    "import numpy as np\n",
    "import time"
   ]
  },
  {
   "cell_type": "code",
   "execution_count": null,
   "id": "8679c386-b87d-4595-8ac9-b190d328af61",
   "metadata": {},
   "outputs": [],
   "source": [
    "#File path for the dataset \n",
    "file_path ='./archive/dataset.csv'\n",
    "data = pd.read_csv(file_path)\n",
    "\n",
    "#create  label encoder\n",
    "label_encoder = LabelEncoder()\n",
    "\n",
    "#Apply label encoder to the \"crop\" column\n",
    "data['Crop'] = label_encoder.fit_transform(data['Crop'])\n",
    "\n",
    "print(data.head())\n",
    "print(data.info())\n"
   ]
  },
  {
   "cell_type": "code",
   "execution_count": 6,
   "id": "955d7549-ea80-474c-9a9f-1b824ed5ef3e",
   "metadata": {},
   "outputs": [],
   "source": [
    "#Features and labels\n",
    "X = data.drop('Irrigation', axis = 1)\n",
    "y= data[['Irrigation']]\n",
    "\n",
    "#Split data into training and testing sets\n",
    "X_train, X_test, y_train, y_test = train_test_split(X, y, test_size = 0.2, random_state = 42)\n",
    "\n",
    "#Ensure that y_train and y_test are 1D arrays\n",
    "y_train = y_train.values.ravel()\n",
    "y_test = y_test.values.ravel()"
   ]
  },
  {
   "cell_type": "code",
   "execution_count": null,
   "id": "263a36b8-275c-473c-885f-5cc75e1b6ce3",
   "metadata": {},
   "outputs": [],
   "source": [
    "# Train the model\n",
    "model = RandomForestClassifier(n_estimators = 100, random_state = 42)\n",
    "model.fit(X_train, y_train)"
   ]
  },
  {
   "cell_type": "code",
   "execution_count": 8,
   "id": "73e96d18-84c1-40b0-bc2f-2a0f369190ed",
   "metadata": {},
   "outputs": [
    {
     "name": "stdout",
     "output_type": "stream",
     "text": [
      "Accuracy:0.9207920792079208\n"
     ]
    }
   ],
   "source": [
    "#Evaluate the model\n",
    "y_pred = model.predict(X_test)\n",
    "print(f'Accuracy:{accuracy_score(y_test, y_pred)}')\n"
   ]
  },
  {
   "cell_type": "code",
   "execution_count": 9,
   "id": "b31955ed-af99-4f26-a6d8-a20a2c2b6cc6",
   "metadata": {},
   "outputs": [],
   "source": [
    "#Save the model\n",
    "joblib.dump(model, 'random_forest_model.pkl')\n",
    "\n",
    "#Convert the label encoding mapping to the native Python types\n",
    "crop_mapping = {str(key): int(value) for key, value in zip(label_encoder.classes_, label_encoder.transform(label_encoder.classes_))}\n",
    "\n",
    "#Save the label encoding mapping\n",
    "with open('crop_mapping.json', 'w') as f:\n",
    "    json.dump(crop_mapping, f)"
   ]
  },
  {
   "cell_type": "code",
   "execution_count": null,
   "id": "edfc2ee6-de54-4092-9372-23659b408dd9",
   "metadata": {},
   "outputs": [],
   "source": [
    "#install sklearn_porter  to convert model to c language\n",
    "!pip install sklearn-porter\n"
   ]
  },
  {
   "cell_type": "code",
   "execution_count": null,
   "id": "77074a11-4484-46e3-b909-46bd08057ae9",
   "metadata": {},
   "outputs": [],
   "source": [
    "pip install m2cgen\n"
   ]
  },
  {
   "cell_type": "code",
   "execution_count": 22,
   "id": "11ab325c-7154-4473-bb23-70e6309e575d",
   "metadata": {},
   "outputs": [],
   "source": [
    "import m2cgen as m2c\n",
    "\n",
    "# Load your trained model\n",
    "model = joblib.load('random_forest_model.pkl')\n",
    "\n",
    "# Generate C code for the model\n",
    "model_code = m2c.export_to_c(model)\n",
    "\n",
    "# Save the model code to a file\n",
    "with open('model.c', 'w') as f:\n",
    "    f.write(model_code)\n"
   ]
  },
  {
   "cell_type": "code",
   "execution_count": null,
   "id": "88234553-e806-4688-b2ed-343e0a230b58",
   "metadata": {},
   "outputs": [],
   "source": []
  }
 ],
 "metadata": {
  "kernelspec": {
   "display_name": "Python 3",
   "language": "python",
   "name": "python3"
  },
  "language_info": {
   "codemirror_mode": {
    "name": "ipython",
    "version": 3
   },
   "file_extension": ".py",
   "mimetype": "text/x-python",
   "name": "python",
   "nbconvert_exporter": "python",
   "pygments_lexer": "ipython3",
   "version": "3.10.12"
  }
 },
 "nbformat": 4,
 "nbformat_minor": 5
}
